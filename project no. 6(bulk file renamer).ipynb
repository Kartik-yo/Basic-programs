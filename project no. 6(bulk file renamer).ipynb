{
 "cells": [
  {
   "cell_type": "code",
   "execution_count": 15,
   "metadata": {},
   "outputs": [],
   "source": [
    "#IMPORTING NECESSARY LIBRARIES\n",
    "import os \n",
    "\n",
    "#DEFINING THE FUNCTION\n",
    "def renamer():\n",
    "    i=0\n",
    "    path=\"D:\\\\kashi\\\\bulk file renamer\\\\img\\\\\" # add file path of folder you want to arrange\n",
    "    for filename in os.listdir(path):\n",
    "        names=f\"pic {i}.jpg\"\n",
    "        src= path+filename\n",
    "        dest= path+names\n",
    "        \n",
    "        os.rename(src,dest)\n",
    "        i=i+1\n",
    "    \n",
    "#SPECIFYING CONDITION AND CALLING THE FUNCTION\n",
    "if __name__==\"__main__\":\n",
    "    renamer()"
   ]
  }
 ],
 "metadata": {
  "kernelspec": {
   "display_name": "Python 3",
   "language": "python",
   "name": "python3"
  },
  "language_info": {
   "codemirror_mode": {
    "name": "ipython",
    "version": 3
   },
   "file_extension": ".py",
   "mimetype": "text/x-python",
   "name": "python",
   "nbconvert_exporter": "python",
   "pygments_lexer": "ipython3",
   "version": "3.7.0"
  }
 },
 "nbformat": 4,
 "nbformat_minor": 2
}
