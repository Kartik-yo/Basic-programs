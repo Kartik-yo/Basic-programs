{
 "cells": [
  {
   "cell_type": "code",
   "execution_count": 1,
   "metadata": {},
   "outputs": [
    {
     "name": "stdout",
     "output_type": "stream",
     "text": [
      "enter the equation:\n",
      "None4+5\n",
      "the sum is \n",
      "9\n"
     ]
    }
   ],
   "source": [
    "##for addition\n",
    "def add(a,c):\n",
    "    addition= a+c\n",
    "    print(\"the sum is \")\n",
    "    print(addition)\n",
    "    \n",
    "##for substraction\n",
    "def sub(a,c):\n",
    "    substraction= a-c\n",
    "    print(\"the substraction is \")\n",
    "    print(substraction)\n",
    "    \n",
    "##for multiplication\n",
    "def mply(a,c):\n",
    "    multiply= a*c\n",
    "    print(\"the multiplication is \")\n",
    "    print(multiply)\n",
    "    \n",
    "##for division\n",
    "def div(a,c):\n",
    "    division= a/c\n",
    "    print(\"the division is \")\n",
    "    print(division)\n",
    "    \n",
    "## for modulus\n",
    "def mdls(a,c):\n",
    "    modulos= a%c\n",
    "    print(\"the reminder is \")\n",
    "    print(modulos)\n",
    "    \n",
    "# calculation program\n",
    "a,b,c=input(print(\"enter the equation:\"))\n",
    "a=int(a)\n",
    "c=int(c)\n",
    "if b==\"+\":\n",
    "    add(a,c)\n",
    "elif b==\"-\":\n",
    "    sub(a,c)\n",
    "elif b==\"*\":\n",
    "    mply(a,c)\n",
    "elif b==\"/\":\n",
    "    div(a,c)\n",
    "elif b==\"%\":\n",
    "    mdls(a,c)\n",
    "else:\n",
    "    print(\"sorry system error\")"
   ]
  },
  {
   "cell_type": "code",
   "execution_count": null,
   "metadata": {},
   "outputs": [],
   "source": []
  }
 ],
 "metadata": {
  "kernelspec": {
   "display_name": "Python 3",
   "language": "python",
   "name": "python3"
  },
  "language_info": {
   "codemirror_mode": {
    "name": "ipython",
    "version": 3
   },
   "file_extension": ".py",
   "mimetype": "text/x-python",
   "name": "python",
   "nbconvert_exporter": "python",
   "pygments_lexer": "ipython3",
   "version": "3.7.0"
  }
 },
 "nbformat": 4,
 "nbformat_minor": 2
}
