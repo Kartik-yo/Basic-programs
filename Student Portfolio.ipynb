{
 "cells": [
  {
   "cell_type": "markdown",
   "metadata": {},
   "source": [
    "# Student Portfolio\n",
    "\n"
   ]
  },
  {
   "cell_type": "markdown",
   "metadata": {},
   "source": [
    "Write a program which reads data given by user about students about their names, std & sections, roll no., Any three subjects, and average percentage of the  student.    "
   ]
  },
  {
   "cell_type": "code",
   "execution_count": 1,
   "metadata": {},
   "outputs": [
    {
     "name": "stdout",
     "output_type": "stream",
     "text": [
      " Enter name of student1:laxmi\n",
      " Enter name of student2:ram\n",
      " Enter name of student3:rahul\n",
      " Enter name of student4:rohan\n"
     ]
    }
   ],
   "source": [
    " ##Assuming  an institute is only having four students and all are in same std and section\n",
    "n1= input(\" Enter name of student1:\")\n",
    "n2= input(\" Enter name of student2:\")\n",
    "n3= input(\" Enter name of student3:\")\n",
    "n4= input(\" Enter name of student4:\")"
   ]
  },
  {
   "cell_type": "code",
   "execution_count": 2,
   "metadata": {},
   "outputs": [
    {
     "name": "stdout",
     "output_type": "stream",
     "text": [
      " Enter marks obtain in chemistry:\n",
      "student1:98\n",
      "student2:99\n",
      "student3:96\n",
      "student4:97\n"
     ]
    }
   ],
   "source": [
    "print(\" Enter marks obtain in chemistry:\")\n",
    "c1= int(input(\"student1:\"))\n",
    "c2= int(input(\"student2:\"))\n",
    "c3= int(input(\"student3:\"))\n",
    "c4= int(input(\"student4:\"))"
   ]
  },
  {
   "cell_type": "code",
   "execution_count": 3,
   "metadata": {},
   "outputs": [
    {
     "name": "stdout",
     "output_type": "stream",
     "text": [
      " Enter marks obtain in physics:\n",
      "student1:89\n",
      "student2:88\n",
      "student3:87\n",
      "student4:86\n"
     ]
    }
   ],
   "source": [
    "print(\" Enter marks obtain in physics:\")\n",
    "p1= int(input(\"student1:\"))\n",
    "p2= int(input(\"student2:\"))\n",
    "p3= int(input(\"student3:\"))\n",
    "p4= int(input(\"student4:\"))"
   ]
  },
  {
   "cell_type": "code",
   "execution_count": 4,
   "metadata": {},
   "outputs": [
    {
     "name": "stdout",
     "output_type": "stream",
     "text": [
      " Enter marks obtain in maths:\n",
      "student1:90\n",
      "student2:91\n",
      "student3:92\n",
      "student4:95\n"
     ]
    }
   ],
   "source": [
    "print(\" Enter marks obtain in maths:\")\n",
    "m1= int(input(\"student1:\"))\n",
    "m2= int(input(\"student2:\"))\n",
    "m3= int(input(\"student3:\"))\n",
    "m4= int(input(\"student4:\"))"
   ]
  },
  {
   "cell_type": "code",
   "execution_count": 5,
   "metadata": {},
   "outputs": [
    {
     "name": "stdout",
     "output_type": "stream",
     "text": [
      "Average percent of\n",
      "student1: 92.33333333333333\n",
      "student2: 88\n",
      "student3: 87\n",
      "student4: 86\n"
     ]
    }
   ],
   "source": [
    "print(\"Average percent of\")\n",
    "p1=((m1+p1+c1)/300)*100\n",
    "print(\"student1:\",p1)\n",
    "p1=((m2+p2+c2)/300)*100\n",
    "print(\"student2:\",p2)\n",
    "p1=((m3+p3+c3)/300)*100\n",
    "print(\"student3:\",p3)\n",
    "p1=((m4+p4+c4)/300)*100\n",
    "print(\"student4:\",p4)"
   ]
  },
  {
   "cell_type": "code",
   "execution_count": null,
   "metadata": {},
   "outputs": [],
   "source": []
  },
  {
   "cell_type": "code",
   "execution_count": null,
   "metadata": {},
   "outputs": [],
   "source": []
  },
  {
   "cell_type": "code",
   "execution_count": null,
   "metadata": {},
   "outputs": [],
   "source": []
  },
  {
   "cell_type": "code",
   "execution_count": null,
   "metadata": {},
   "outputs": [],
   "source": []
  },
  {
   "cell_type": "code",
   "execution_count": null,
   "metadata": {},
   "outputs": [],
   "source": []
  }
 ],
 "metadata": {
  "kernelspec": {
   "display_name": "Python 3",
   "language": "python",
   "name": "python3"
  },
  "language_info": {
   "codemirror_mode": {
    "name": "ipython",
    "version": 3
   },
   "file_extension": ".py",
   "mimetype": "text/x-python",
   "name": "python",
   "nbconvert_exporter": "python",
   "pygments_lexer": "ipython3",
   "version": "3.7.0"
  }
 },
 "nbformat": 4,
 "nbformat_minor": 2
}
