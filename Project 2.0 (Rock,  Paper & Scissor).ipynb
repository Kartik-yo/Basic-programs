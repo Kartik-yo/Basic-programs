{
 "cells": [
  {
   "cell_type": "code",
   "execution_count": 18,
   "metadata": {},
   "outputs": [
    {
     "name": "stdout",
     "output_type": "stream",
     "text": [
      "choose any one: 1,2,3\n",
      "player1\n",
      "None3\n",
      "player2\n",
      "None3\n",
      "Player1 have choosen scissor & Player2 has also choosen the scissor \n",
      " Hence, it's a tie!:(\n"
     ]
    }
   ],
   "source": [
    "print(\"choose any one: 1,2,3\")\n",
    "a=int(input(print(\"player1\")))\n",
    "b=int(input(print(\"player2\")))\n",
    "if (a==1) and (b==2):\n",
    "    print(\"Player1 have choosen rock\"+\" \"+\"&\"+\" \"+\"Player2 has choosen the paper\"+\" \"+\"\\n Hence, Player 2 is the winner!)\")\n",
    "elif (a==1) and (b==3):\n",
    "    print(\"Player1 have choosen rock\"+\" \"+\"&\"+\" \"+\"Player2 has choosen the scissor\"+\" \"+\"\\n Hence, Player 1 is the winner!)\")\n",
    "elif(a==1)and (b==1):\n",
    "    print(\"Player1 have choosen rock\"+\" \"+\"&\"+\" \"+\"Player2 has also choosen the rock\"+\" \"+\"\\n Hence, it's a tie!:(\")\n",
    "elif(a==2) and (b==1):\n",
    "    print(\"Player1 have choosen paper\"+\" \"+\"&\"+\" \"+\"Player2 has choosen the rock\"+\" \"+\"\\n Hence, Player 1 is the winner!)\")\n",
    "elif(a==2) and (b==3):\n",
    "    print(\"Player1 have choosen paper\"+\" \"+\"&\"+\" \"+\"Player2 has choosen the scissor\"+\" \"+\"\\n Hence, Player 2 is the winner!)\")\n",
    "elif(a==2)and (b==2):\n",
    "    print(\"Player1 have choosen paper\"+\" \"+\"&\"+\" \"+\"Player2 has also choosen the paper\"+\" \"+\"\\n Hence, it's a tie!:(\")\n",
    "elif(a==3)and (b==1):\n",
    "    print(\"Player1 have choosen scissor\"+\" \"+\"&\"+\" \"+\"Player2 has choosen the rock\"+\" \"+\"\\n Hence, Player 2 is the winner!)\")\n",
    "elif(a==3)and (b==2):\n",
    "    print(\"Player1 have choosen scissor\"+\" \"+\"&\"+\" \"+\"Player2 has choosen the paper\"+\" \"+\"\\n Hence, Player 1 is the winner!)\")\n",
    "elif(a==3)and (b==3):\n",
    "    print(\"Player1 have choosen scissor\"+\" \"+\"&\"+\" \"+\"Player2 has also choosen the scissor\"+\" \"+\"\\n Hence, it's a tie!:(\")\n",
    "else:\n",
    "    print(\"sorry wrong input\")"
   ]
  },
  {
   "cell_type": "code",
   "execution_count": null,
   "metadata": {},
   "outputs": [],
   "source": []
  }
 ],
 "metadata": {
  "kernelspec": {
   "display_name": "Python 3",
   "language": "python",
   "name": "python3"
  },
  "language_info": {
   "codemirror_mode": {
    "name": "ipython",
    "version": 3
   },
   "file_extension": ".py",
   "mimetype": "text/x-python",
   "name": "python",
   "nbconvert_exporter": "python",
   "pygments_lexer": "ipython3",
   "version": "3.7.0"
  }
 },
 "nbformat": 4,
 "nbformat_minor": 2
}
